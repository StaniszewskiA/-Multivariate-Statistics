{
 "cells": [
  {
   "cell_type": "code",
   "execution_count": 3,
   "id": "6e9ce912-ed17-4065-86e3-93b7734b2596",
   "metadata": {},
   "outputs": [
    {
     "data": {
      "text/html": [
       "<table class=\"dataframe\">\n",
       "<caption>A data.frame: 6 × 9</caption>\n",
       "<thead>\n",
       "\t<tr><th></th><th scope=col>mpg</th><th scope=col>cylinders</th><th scope=col>displacement</th><th scope=col>horsepower</th><th scope=col>weight</th><th scope=col>acceleration</th><th scope=col>year</th><th scope=col>origin</th><th scope=col>name</th></tr>\n",
       "\t<tr><th></th><th scope=col>&lt;dbl&gt;</th><th scope=col>&lt;int&gt;</th><th scope=col>&lt;dbl&gt;</th><th scope=col>&lt;chr&gt;</th><th scope=col>&lt;int&gt;</th><th scope=col>&lt;dbl&gt;</th><th scope=col>&lt;int&gt;</th><th scope=col>&lt;int&gt;</th><th scope=col>&lt;chr&gt;</th></tr>\n",
       "</thead>\n",
       "<tbody>\n",
       "\t<tr><th scope=row>1</th><td>18</td><td>8</td><td>307</td><td>130</td><td>3504</td><td>12.0</td><td>70</td><td>1</td><td>chevrolet chevelle malibu</td></tr>\n",
       "\t<tr><th scope=row>2</th><td>15</td><td>8</td><td>350</td><td>165</td><td>3693</td><td>11.5</td><td>70</td><td>1</td><td>buick skylark 320        </td></tr>\n",
       "\t<tr><th scope=row>3</th><td>18</td><td>8</td><td>318</td><td>150</td><td>3436</td><td>11.0</td><td>70</td><td>1</td><td>plymouth satellite       </td></tr>\n",
       "\t<tr><th scope=row>4</th><td>16</td><td>8</td><td>304</td><td>150</td><td>3433</td><td>12.0</td><td>70</td><td>1</td><td>amc rebel sst            </td></tr>\n",
       "\t<tr><th scope=row>5</th><td>17</td><td>8</td><td>302</td><td>140</td><td>3449</td><td>10.5</td><td>70</td><td>1</td><td>ford torino              </td></tr>\n",
       "\t<tr><th scope=row>6</th><td>15</td><td>8</td><td>429</td><td>198</td><td>4341</td><td>10.0</td><td>70</td><td>1</td><td>ford galaxie 500         </td></tr>\n",
       "</tbody>\n",
       "</table>\n"
      ],
      "text/latex": [
       "A data.frame: 6 × 9\n",
       "\\begin{tabular}{r|lllllllll}\n",
       "  & mpg & cylinders & displacement & horsepower & weight & acceleration & year & origin & name\\\\\n",
       "  & <dbl> & <int> & <dbl> & <chr> & <int> & <dbl> & <int> & <int> & <chr>\\\\\n",
       "\\hline\n",
       "\t1 & 18 & 8 & 307 & 130 & 3504 & 12.0 & 70 & 1 & chevrolet chevelle malibu\\\\\n",
       "\t2 & 15 & 8 & 350 & 165 & 3693 & 11.5 & 70 & 1 & buick skylark 320        \\\\\n",
       "\t3 & 18 & 8 & 318 & 150 & 3436 & 11.0 & 70 & 1 & plymouth satellite       \\\\\n",
       "\t4 & 16 & 8 & 304 & 150 & 3433 & 12.0 & 70 & 1 & amc rebel sst            \\\\\n",
       "\t5 & 17 & 8 & 302 & 140 & 3449 & 10.5 & 70 & 1 & ford torino              \\\\\n",
       "\t6 & 15 & 8 & 429 & 198 & 4341 & 10.0 & 70 & 1 & ford galaxie 500         \\\\\n",
       "\\end{tabular}\n"
      ],
      "text/markdown": [
       "\n",
       "A data.frame: 6 × 9\n",
       "\n",
       "| <!--/--> | mpg &lt;dbl&gt; | cylinders &lt;int&gt; | displacement &lt;dbl&gt; | horsepower &lt;chr&gt; | weight &lt;int&gt; | acceleration &lt;dbl&gt; | year &lt;int&gt; | origin &lt;int&gt; | name &lt;chr&gt; |\n",
       "|---|---|---|---|---|---|---|---|---|---|\n",
       "| 1 | 18 | 8 | 307 | 130 | 3504 | 12.0 | 70 | 1 | chevrolet chevelle malibu |\n",
       "| 2 | 15 | 8 | 350 | 165 | 3693 | 11.5 | 70 | 1 | buick skylark 320         |\n",
       "| 3 | 18 | 8 | 318 | 150 | 3436 | 11.0 | 70 | 1 | plymouth satellite        |\n",
       "| 4 | 16 | 8 | 304 | 150 | 3433 | 12.0 | 70 | 1 | amc rebel sst             |\n",
       "| 5 | 17 | 8 | 302 | 140 | 3449 | 10.5 | 70 | 1 | ford torino               |\n",
       "| 6 | 15 | 8 | 429 | 198 | 4341 | 10.0 | 70 | 1 | ford galaxie 500          |\n",
       "\n"
      ],
      "text/plain": [
       "  mpg cylinders displacement horsepower weight acceleration year origin\n",
       "1 18  8         307          130        3504   12.0         70   1     \n",
       "2 15  8         350          165        3693   11.5         70   1     \n",
       "3 18  8         318          150        3436   11.0         70   1     \n",
       "4 16  8         304          150        3433   12.0         70   1     \n",
       "5 17  8         302          140        3449   10.5         70   1     \n",
       "6 15  8         429          198        4341   10.0         70   1     \n",
       "  name                     \n",
       "1 chevrolet chevelle malibu\n",
       "2 buick skylark 320        \n",
       "3 plymouth satellite       \n",
       "4 amc rebel sst            \n",
       "5 ford torino              \n",
       "6 ford galaxie 500         "
      ]
     },
     "metadata": {},
     "output_type": "display_data"
    }
   ],
   "source": [
    "data <- read.csv(\"Auto.csv\")\n",
    "head(data)"
   ]
  },
  {
   "cell_type": "markdown",
   "id": "43d83228-a17a-4641-bd76-d20559938261",
   "metadata": {},
   "source": [
    "Punkt 1"
   ]
  },
  {
   "cell_type": "code",
   "execution_count": 4,
   "id": "ff0c8b45-edca-43a8-99ef-c32856e73862",
   "metadata": {},
   "outputs": [
    {
     "name": "stdout",
     "output_type": "stream",
     "text": [
      "[1] 23.51587\n"
     ]
    }
   ],
   "source": [
    "mean_usage <- mean(data$mpg, na.rm = TRUE)\n",
    "print(mean_usage)"
   ]
  },
  {
   "cell_type": "markdown",
   "id": "96fbfcfa-23ff-4796-8ed2-c5a54e65bffc",
   "metadata": {},
   "source": [
    "Punkt 2"
   ]
  },
  {
   "cell_type": "code",
   "execution_count": 6,
   "id": "91895f98-4cac-4147-9894-9b31fa4b25db",
   "metadata": {},
   "outputs": [
    {
     "name": "stdout",
     "output_type": "stream",
     "text": [
      "[1] 29.31773\n"
     ]
    }
   ],
   "source": [
    "data_4_cyl <- subset(data, cylinders == 4)\n",
    "mean_mpg_4_cyl <- mean(data_4_cyl$mpg, na.rm = TRUE)\n",
    "\n",
    "print(mean_mpg_4_cyl)"
   ]
  },
  {
   "cell_type": "markdown",
   "id": "a571c9eb-deec-4a19-9d5c-e32eb7a1ec37",
   "metadata": {},
   "source": [
    "Punkt 3"
   ]
  },
  {
   "cell_type": "code",
   "execution_count": 7,
   "id": "1afaee74-169f-48a3-b4e1-7acd5d9fbbdd",
   "metadata": {},
   "outputs": [
    {
     "name": "stdout",
     "output_type": "stream",
     "text": [
      "[1] 2800\n"
     ]
    }
   ],
   "source": [
    "median_weight <- median(data$weight, na.rm = TRUE)\n",
    "\n",
    "print(median_weight)"
   ]
  },
  {
   "cell_type": "markdown",
   "id": "1efd8ed4-3cbc-4fbe-a899-1fd6d4b1759e",
   "metadata": {},
   "source": [
    "Punkt 4"
   ]
  },
  {
   "cell_type": "code",
   "execution_count": 10,
   "id": "5716ed14-d1d6-4bb0-81cb-1328ebb7981d",
   "metadata": {},
   "outputs": [
    {
     "name": "stdout",
     "output_type": "stream",
     "text": [
      "[1] 18.71429\n"
     ]
    }
   ],
   "source": [
    "data_1972 <- data[data$year == 72, ]\n",
    "mean_mpg_1972 <- mean(data_1972$mpg, na.rm = TRUE)\n",
    "\n",
    "print(mean_mpg_1972)"
   ]
  },
  {
   "cell_type": "markdown",
   "id": "9ca37f6a-797c-4a86-8a90-a8b7a9e52198",
   "metadata": {},
   "source": [
    "Punkt 5"
   ]
  },
  {
   "cell_type": "code",
   "execution_count": 9,
   "id": "094137d7-7154-4a83-b075-0a0be9bd120c",
   "metadata": {},
   "outputs": [
    {
     "name": "stdout",
     "output_type": "stream",
     "text": [
      "[1] 7.562474\n"
     ]
    }
   ],
   "source": [
    "var_acceleration <- var(data$acceleration, na.rm = TRUE)\n",
    "\n",
    "print(var_acceleration)"
   ]
  },
  {
   "cell_type": "markdown",
   "id": "81ea3647-c801-4aa2-9494-9fab252cf8bc",
   "metadata": {},
   "source": [
    "Punkt 6"
   ]
  },
  {
   "cell_type": "code",
   "execution_count": 11,
   "id": "e430b0ba-6a62-42ba-8072-e9fc3f438db8",
   "metadata": {},
   "outputs": [
    {
     "name": "stdout",
     "output_type": "stream",
     "text": [
      "[1] 3.821779\n"
     ]
    }
   ],
   "source": [
    "japanese <- data[data$origin == 3, ]\n",
    "var_acceleration_japanese <- var(japanese$acceleration, na.rm = TRUE)\n",
    "\n",
    "print(var_acceleration_japanese)"
   ]
  },
  {
   "cell_type": "markdown",
   "id": "1850a729-c755-49f7-839b-357ae0eb5b2c",
   "metadata": {},
   "source": [
    "Punkt 7"
   ]
  },
  {
   "cell_type": "code",
   "execution_count": 13,
   "id": "a7d302f9-dc88-4a6f-b659-1485da8bae43",
   "metadata": {},
   "outputs": [
    {
     "name": "stderr",
     "output_type": "stream",
     "text": [
      "Warning message in mean(as.numeric(data$horsepower), na.rm = TRUE):\n",
      "“NAs introduced by coercion”\n",
      "Warning message in eval(expr, envir, enclos):\n",
      "“NAs introduced by coercion”\n"
     ]
    },
    {
     "name": "stdout",
     "output_type": "stream",
     "text": [
      "[1] 148\n"
     ]
    }
   ],
   "source": [
    "mean_horsepower <- mean(as.numeric(data$horsepower), na.rm = TRUE)\n",
    "above_average <- sum(as.numeric(data$horsepower) > mean_horsepower, na.rm = TRUE)\n",
    "\n",
    "print(above_average)"
   ]
  },
  {
   "cell_type": "markdown",
   "id": "b18d9967-c398-4084-9ab7-3bc5d56e004f",
   "metadata": {},
   "source": [
    "Punkt 8"
   ]
  },
  {
   "cell_type": "code",
   "execution_count": 14,
   "id": "de5fa587-15aa-416b-81b7-c9df2454e66b",
   "metadata": {},
   "outputs": [
    {
     "name": "stdout",
     "output_type": "stream",
     "text": [
      "[1] \"98\"\n"
     ]
    }
   ],
   "source": [
    "mean_weigth <- mean(data$weight, na.rm = TRUE)\n",
    "below_average_weight <- data[data$weight < mean_weigth, ]\n",
    "max_power <- max(below_average_weight$horsepower, na.rm = TRUE)\n",
    "\n",
    "print(max_power)"
   ]
  },
  {
   "cell_type": "markdown",
   "id": "0b997b99-e644-44ba-8e0a-7852216499ab",
   "metadata": {},
   "source": [
    "Punkt 9"
   ]
  },
  {
   "cell_type": "code",
   "execution_count": 16,
   "id": "aafa53dc-757a-4e23-af17-1c057b5bfdcb",
   "metadata": {},
   "outputs": [
    {
     "name": "stdout",
     "output_type": "stream",
     "text": [
      "[1] 189\n"
     ]
    }
   ],
   "source": [
    "mean_mpg <- mean(data$mpg, na.rm = TRUE)\n",
    "above_average_mpg <- data[data$mpg > mean_mpg, ]\n",
    "amount_above <- nrow(above_average_mpg)\n",
    "\n",
    "print(amount_above)"
   ]
  },
  {
   "cell_type": "markdown",
   "id": "c578241e-6731-462a-bb55-9136dac905e3",
   "metadata": {},
   "source": [
    "Punkt 10"
   ]
  },
  {
   "cell_type": "code",
   "execution_count": 17,
   "id": "1ae38eec-a686-4a18-88d0-8e7d669e3a5b",
   "metadata": {},
   "outputs": [
    {
     "name": "stdout",
     "output_type": "stream",
     "text": [
      "[1] 3\n"
     ]
    }
   ],
   "source": [
    "min_cylinders <- min(above_average_mpg$cylinders)\n",
    "\n",
    "print(min_cylinders)"
   ]
  },
  {
   "cell_type": "markdown",
   "id": "ecaddd4a-1c35-4260-94c1-9c97687c354c",
   "metadata": {},
   "source": [
    "Punkt 11"
   ]
  },
  {
   "cell_type": "code",
   "execution_count": 18,
   "id": "da029cf7-6ec6-4bb8-8920-558705e5124d",
   "metadata": {},
   "outputs": [
    {
     "name": "stdout",
     "output_type": "stream",
     "text": [
      "[1] 3\n"
     ]
    }
   ],
   "source": [
    "max_volume <- max(data$displacement, na.rm = TRUE)\n",
    "max_volume_cars <- data[data$displacement == max_volume, ]\n",
    "max_volume_cars_amount <- nrow(max_volume_cars)\n",
    "\n",
    "print(max_volume_cars_amount)"
   ]
  },
  {
   "cell_type": "markdown",
   "id": "bc2ab058-0ab0-4d09-8af5-374202f11cd5",
   "metadata": {},
   "source": [
    "Punkt 12"
   ]
  },
  {
   "cell_type": "code",
   "execution_count": null,
   "id": "6371267b-b6aa-4b5a-adc0-15edda406349",
   "metadata": {},
   "outputs": [],
   "source": [
    "volume_median <- median(data$displacement, na.rm = TRUE)\n",
    "below_median <- data[data$displacement < volume_median, ]\n",
    "max_weigth<- max(samochody_mniejsze_od_mediany$weight, na.rm = TRUE)\n",
    "\n",
    "# Wyświetl wynik\n",
    "print(maksymalna_waga)\n"
   ]
  }
 ],
 "metadata": {
  "kernelspec": {
   "display_name": "R",
   "language": "R",
   "name": "ir"
  },
  "language_info": {
   "codemirror_mode": "r",
   "file_extension": ".r",
   "mimetype": "text/x-r-source",
   "name": "R",
   "pygments_lexer": "r",
   "version": "4.1.3"
  }
 },
 "nbformat": 4,
 "nbformat_minor": 5
}
